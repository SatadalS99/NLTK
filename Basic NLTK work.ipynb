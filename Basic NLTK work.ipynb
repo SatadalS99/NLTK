{
 "cells": [
  {
   "cell_type": "code",
   "execution_count": 56,
   "id": "4f32524c",
   "metadata": {},
   "outputs": [],
   "source": [
    "import nltk"
   ]
  },
  {
   "cell_type": "code",
   "execution_count": 57,
   "id": "e0db5f57",
   "metadata": {},
   "outputs": [
    {
     "name": "stderr",
     "output_type": "stream",
     "text": [
      "[nltk_data] Downloading collection 'all'\n",
      "[nltk_data]    | \n",
      "[nltk_data]    | Downloading package abc to\n",
      "[nltk_data]    |     C:\\Users\\satad\\AppData\\Roaming\\nltk_data...\n",
      "[nltk_data]    |   Package abc is already up-to-date!\n",
      "[nltk_data]    | Downloading package alpino to\n",
      "[nltk_data]    |     C:\\Users\\satad\\AppData\\Roaming\\nltk_data...\n",
      "[nltk_data]    |   Package alpino is already up-to-date!\n",
      "[nltk_data]    | Downloading package averaged_perceptron_tagger to\n",
      "[nltk_data]    |     C:\\Users\\satad\\AppData\\Roaming\\nltk_data...\n",
      "[nltk_data]    |   Package averaged_perceptron_tagger is already up-\n",
      "[nltk_data]    |       to-date!\n",
      "[nltk_data]    | Downloading package averaged_perceptron_tagger_ru to\n",
      "[nltk_data]    |     C:\\Users\\satad\\AppData\\Roaming\\nltk_data...\n",
      "[nltk_data]    |   Package averaged_perceptron_tagger_ru is already\n",
      "[nltk_data]    |       up-to-date!\n",
      "[nltk_data]    | Downloading package basque_grammars to\n",
      "[nltk_data]    |     C:\\Users\\satad\\AppData\\Roaming\\nltk_data...\n",
      "[nltk_data]    |   Package basque_grammars is already up-to-date!\n",
      "[nltk_data]    | Downloading package bcp47 to\n",
      "[nltk_data]    |     C:\\Users\\satad\\AppData\\Roaming\\nltk_data...\n",
      "[nltk_data]    |   Package bcp47 is already up-to-date!\n",
      "[nltk_data]    | Downloading package biocreative_ppi to\n",
      "[nltk_data]    |     C:\\Users\\satad\\AppData\\Roaming\\nltk_data...\n",
      "[nltk_data]    |   Package biocreative_ppi is already up-to-date!\n",
      "[nltk_data]    | Downloading package bllip_wsj_no_aux to\n",
      "[nltk_data]    |     C:\\Users\\satad\\AppData\\Roaming\\nltk_data...\n",
      "[nltk_data]    |   Package bllip_wsj_no_aux is already up-to-date!\n",
      "[nltk_data]    | Downloading package book_grammars to\n",
      "[nltk_data]    |     C:\\Users\\satad\\AppData\\Roaming\\nltk_data...\n",
      "[nltk_data]    |   Package book_grammars is already up-to-date!\n",
      "[nltk_data]    | Downloading package brown to\n",
      "[nltk_data]    |     C:\\Users\\satad\\AppData\\Roaming\\nltk_data...\n",
      "[nltk_data]    |   Package brown is already up-to-date!\n",
      "[nltk_data]    | Downloading package brown_tei to\n",
      "[nltk_data]    |     C:\\Users\\satad\\AppData\\Roaming\\nltk_data...\n",
      "[nltk_data]    |   Package brown_tei is already up-to-date!\n",
      "[nltk_data]    | Downloading package cess_cat to\n",
      "[nltk_data]    |     C:\\Users\\satad\\AppData\\Roaming\\nltk_data...\n",
      "[nltk_data]    |   Package cess_cat is already up-to-date!\n",
      "[nltk_data]    | Downloading package cess_esp to\n",
      "[nltk_data]    |     C:\\Users\\satad\\AppData\\Roaming\\nltk_data...\n",
      "[nltk_data]    |   Package cess_esp is already up-to-date!\n",
      "[nltk_data]    | Downloading package chat80 to\n",
      "[nltk_data]    |     C:\\Users\\satad\\AppData\\Roaming\\nltk_data...\n",
      "[nltk_data]    |   Package chat80 is already up-to-date!\n",
      "[nltk_data]    | Downloading package city_database to\n",
      "[nltk_data]    |     C:\\Users\\satad\\AppData\\Roaming\\nltk_data...\n",
      "[nltk_data]    |   Package city_database is already up-to-date!\n",
      "[nltk_data]    | Downloading package cmudict to\n",
      "[nltk_data]    |     C:\\Users\\satad\\AppData\\Roaming\\nltk_data...\n",
      "[nltk_data]    |   Package cmudict is already up-to-date!\n",
      "[nltk_data]    | Downloading package comparative_sentences to\n",
      "[nltk_data]    |     C:\\Users\\satad\\AppData\\Roaming\\nltk_data...\n",
      "[nltk_data]    |   Package comparative_sentences is already up-to-\n",
      "[nltk_data]    |       date!\n",
      "[nltk_data]    | Downloading package comtrans to\n",
      "[nltk_data]    |     C:\\Users\\satad\\AppData\\Roaming\\nltk_data...\n",
      "[nltk_data]    |   Package comtrans is already up-to-date!\n",
      "[nltk_data]    | Downloading package conll2000 to\n",
      "[nltk_data]    |     C:\\Users\\satad\\AppData\\Roaming\\nltk_data...\n",
      "[nltk_data]    |   Package conll2000 is already up-to-date!\n",
      "[nltk_data]    | Downloading package conll2002 to\n",
      "[nltk_data]    |     C:\\Users\\satad\\AppData\\Roaming\\nltk_data...\n",
      "[nltk_data]    |   Package conll2002 is already up-to-date!\n",
      "[nltk_data]    | Downloading package conll2007 to\n",
      "[nltk_data]    |     C:\\Users\\satad\\AppData\\Roaming\\nltk_data...\n",
      "[nltk_data]    |   Package conll2007 is already up-to-date!\n",
      "[nltk_data]    | Downloading package crubadan to\n",
      "[nltk_data]    |     C:\\Users\\satad\\AppData\\Roaming\\nltk_data...\n",
      "[nltk_data]    |   Package crubadan is already up-to-date!\n",
      "[nltk_data]    | Downloading package dependency_treebank to\n",
      "[nltk_data]    |     C:\\Users\\satad\\AppData\\Roaming\\nltk_data...\n",
      "[nltk_data]    |   Package dependency_treebank is already up-to-date!\n",
      "[nltk_data]    | Downloading package dolch to\n",
      "[nltk_data]    |     C:\\Users\\satad\\AppData\\Roaming\\nltk_data...\n",
      "[nltk_data]    |   Package dolch is already up-to-date!\n",
      "[nltk_data]    | Downloading package europarl_raw to\n",
      "[nltk_data]    |     C:\\Users\\satad\\AppData\\Roaming\\nltk_data...\n",
      "[nltk_data]    |   Package europarl_raw is already up-to-date!\n",
      "[nltk_data]    | Downloading package extended_omw to\n",
      "[nltk_data]    |     C:\\Users\\satad\\AppData\\Roaming\\nltk_data...\n",
      "[nltk_data]    |   Package extended_omw is already up-to-date!\n",
      "[nltk_data]    | Downloading package floresta to\n",
      "[nltk_data]    |     C:\\Users\\satad\\AppData\\Roaming\\nltk_data...\n",
      "[nltk_data]    |   Package floresta is already up-to-date!\n",
      "[nltk_data]    | Downloading package framenet_v15 to\n",
      "[nltk_data]    |     C:\\Users\\satad\\AppData\\Roaming\\nltk_data...\n",
      "[nltk_data]    |   Package framenet_v15 is already up-to-date!\n",
      "[nltk_data]    | Downloading package framenet_v17 to\n",
      "[nltk_data]    |     C:\\Users\\satad\\AppData\\Roaming\\nltk_data...\n",
      "[nltk_data]    |   Package framenet_v17 is already up-to-date!\n",
      "[nltk_data]    | Downloading package gazetteers to\n",
      "[nltk_data]    |     C:\\Users\\satad\\AppData\\Roaming\\nltk_data...\n",
      "[nltk_data]    |   Package gazetteers is already up-to-date!\n",
      "[nltk_data]    | Downloading package genesis to\n",
      "[nltk_data]    |     C:\\Users\\satad\\AppData\\Roaming\\nltk_data...\n",
      "[nltk_data]    |   Package genesis is already up-to-date!\n",
      "[nltk_data]    | Downloading package gutenberg to\n",
      "[nltk_data]    |     C:\\Users\\satad\\AppData\\Roaming\\nltk_data...\n",
      "[nltk_data]    |   Package gutenberg is already up-to-date!\n",
      "[nltk_data]    | Downloading package ieer to\n",
      "[nltk_data]    |     C:\\Users\\satad\\AppData\\Roaming\\nltk_data...\n",
      "[nltk_data]    |   Package ieer is already up-to-date!\n",
      "[nltk_data]    | Downloading package inaugural to\n",
      "[nltk_data]    |     C:\\Users\\satad\\AppData\\Roaming\\nltk_data...\n",
      "[nltk_data]    |   Package inaugural is already up-to-date!\n",
      "[nltk_data]    | Downloading package indian to\n",
      "[nltk_data]    |     C:\\Users\\satad\\AppData\\Roaming\\nltk_data...\n",
      "[nltk_data]    |   Package indian is already up-to-date!\n",
      "[nltk_data]    | Downloading package jeita to\n",
      "[nltk_data]    |     C:\\Users\\satad\\AppData\\Roaming\\nltk_data...\n",
      "[nltk_data]    |   Package jeita is already up-to-date!\n",
      "[nltk_data]    | Downloading package kimmo to\n",
      "[nltk_data]    |     C:\\Users\\satad\\AppData\\Roaming\\nltk_data...\n",
      "[nltk_data]    |   Package kimmo is already up-to-date!\n",
      "[nltk_data]    | Downloading package knbc to\n",
      "[nltk_data]    |     C:\\Users\\satad\\AppData\\Roaming\\nltk_data...\n",
      "[nltk_data]    |   Package knbc is already up-to-date!\n",
      "[nltk_data]    | Downloading package large_grammars to\n",
      "[nltk_data]    |     C:\\Users\\satad\\AppData\\Roaming\\nltk_data...\n",
      "[nltk_data]    |   Package large_grammars is already up-to-date!\n",
      "[nltk_data]    | Downloading package lin_thesaurus to\n",
      "[nltk_data]    |     C:\\Users\\satad\\AppData\\Roaming\\nltk_data...\n",
      "[nltk_data]    |   Package lin_thesaurus is already up-to-date!\n",
      "[nltk_data]    | Downloading package mac_morpho to\n",
      "[nltk_data]    |     C:\\Users\\satad\\AppData\\Roaming\\nltk_data...\n",
      "[nltk_data]    |   Package mac_morpho is already up-to-date!\n",
      "[nltk_data]    | Downloading package machado to\n",
      "[nltk_data]    |     C:\\Users\\satad\\AppData\\Roaming\\nltk_data...\n",
      "[nltk_data]    |   Package machado is already up-to-date!\n",
      "[nltk_data]    | Downloading package masc_tagged to\n",
      "[nltk_data]    |     C:\\Users\\satad\\AppData\\Roaming\\nltk_data...\n",
      "[nltk_data]    |   Package masc_tagged is already up-to-date!\n",
      "[nltk_data]    | Downloading package maxent_ne_chunker to\n",
      "[nltk_data]    |     C:\\Users\\satad\\AppData\\Roaming\\nltk_data...\n",
      "[nltk_data]    |   Package maxent_ne_chunker is already up-to-date!\n",
      "[nltk_data]    | Downloading package maxent_treebank_pos_tagger to\n",
      "[nltk_data]    |     C:\\Users\\satad\\AppData\\Roaming\\nltk_data...\n",
      "[nltk_data]    |   Package maxent_treebank_pos_tagger is already up-\n",
      "[nltk_data]    |       to-date!\n",
      "[nltk_data]    | Downloading package moses_sample to\n",
      "[nltk_data]    |     C:\\Users\\satad\\AppData\\Roaming\\nltk_data...\n"
     ]
    },
    {
     "name": "stderr",
     "output_type": "stream",
     "text": [
      "[nltk_data]    |   Package moses_sample is already up-to-date!\n",
      "[nltk_data]    | Downloading package movie_reviews to\n",
      "[nltk_data]    |     C:\\Users\\satad\\AppData\\Roaming\\nltk_data...\n",
      "[nltk_data]    |   Package movie_reviews is already up-to-date!\n",
      "[nltk_data]    | Downloading package mte_teip5 to\n",
      "[nltk_data]    |     C:\\Users\\satad\\AppData\\Roaming\\nltk_data...\n",
      "[nltk_data]    |   Package mte_teip5 is already up-to-date!\n",
      "[nltk_data]    | Downloading package mwa_ppdb to\n",
      "[nltk_data]    |     C:\\Users\\satad\\AppData\\Roaming\\nltk_data...\n",
      "[nltk_data]    |   Package mwa_ppdb is already up-to-date!\n",
      "[nltk_data]    | Downloading package names to\n",
      "[nltk_data]    |     C:\\Users\\satad\\AppData\\Roaming\\nltk_data...\n",
      "[nltk_data]    |   Package names is already up-to-date!\n",
      "[nltk_data]    | Downloading package nombank.1.0 to\n",
      "[nltk_data]    |     C:\\Users\\satad\\AppData\\Roaming\\nltk_data...\n",
      "[nltk_data]    |   Package nombank.1.0 is already up-to-date!\n",
      "[nltk_data]    | Downloading package nonbreaking_prefixes to\n",
      "[nltk_data]    |     C:\\Users\\satad\\AppData\\Roaming\\nltk_data...\n",
      "[nltk_data]    |   Package nonbreaking_prefixes is already up-to-date!\n",
      "[nltk_data]    | Downloading package nps_chat to\n",
      "[nltk_data]    |     C:\\Users\\satad\\AppData\\Roaming\\nltk_data...\n",
      "[nltk_data]    |   Package nps_chat is already up-to-date!\n",
      "[nltk_data]    | Downloading package omw to\n",
      "[nltk_data]    |     C:\\Users\\satad\\AppData\\Roaming\\nltk_data...\n",
      "[nltk_data]    |   Package omw is already up-to-date!\n",
      "[nltk_data]    | Downloading package omw-1.4 to\n",
      "[nltk_data]    |     C:\\Users\\satad\\AppData\\Roaming\\nltk_data...\n",
      "[nltk_data]    |   Package omw-1.4 is already up-to-date!\n",
      "[nltk_data]    | Downloading package opinion_lexicon to\n",
      "[nltk_data]    |     C:\\Users\\satad\\AppData\\Roaming\\nltk_data...\n",
      "[nltk_data]    |   Package opinion_lexicon is already up-to-date!\n",
      "[nltk_data]    | Downloading package panlex_swadesh to\n",
      "[nltk_data]    |     C:\\Users\\satad\\AppData\\Roaming\\nltk_data...\n",
      "[nltk_data]    |   Package panlex_swadesh is already up-to-date!\n",
      "[nltk_data]    | Downloading package paradigms to\n",
      "[nltk_data]    |     C:\\Users\\satad\\AppData\\Roaming\\nltk_data...\n",
      "[nltk_data]    |   Package paradigms is already up-to-date!\n",
      "[nltk_data]    | Downloading package pe08 to\n",
      "[nltk_data]    |     C:\\Users\\satad\\AppData\\Roaming\\nltk_data...\n",
      "[nltk_data]    |   Package pe08 is already up-to-date!\n",
      "[nltk_data]    | Downloading package perluniprops to\n",
      "[nltk_data]    |     C:\\Users\\satad\\AppData\\Roaming\\nltk_data...\n",
      "[nltk_data]    |   Package perluniprops is already up-to-date!\n",
      "[nltk_data]    | Downloading package pil to\n",
      "[nltk_data]    |     C:\\Users\\satad\\AppData\\Roaming\\nltk_data...\n",
      "[nltk_data]    |   Package pil is already up-to-date!\n",
      "[nltk_data]    | Downloading package pl196x to\n",
      "[nltk_data]    |     C:\\Users\\satad\\AppData\\Roaming\\nltk_data...\n",
      "[nltk_data]    |   Package pl196x is already up-to-date!\n",
      "[nltk_data]    | Downloading package porter_test to\n",
      "[nltk_data]    |     C:\\Users\\satad\\AppData\\Roaming\\nltk_data...\n",
      "[nltk_data]    |   Package porter_test is already up-to-date!\n",
      "[nltk_data]    | Downloading package ppattach to\n",
      "[nltk_data]    |     C:\\Users\\satad\\AppData\\Roaming\\nltk_data...\n",
      "[nltk_data]    |   Package ppattach is already up-to-date!\n",
      "[nltk_data]    | Downloading package problem_reports to\n",
      "[nltk_data]    |     C:\\Users\\satad\\AppData\\Roaming\\nltk_data...\n",
      "[nltk_data]    |   Package problem_reports is already up-to-date!\n",
      "[nltk_data]    | Downloading package product_reviews_1 to\n",
      "[nltk_data]    |     C:\\Users\\satad\\AppData\\Roaming\\nltk_data...\n",
      "[nltk_data]    |   Package product_reviews_1 is already up-to-date!\n",
      "[nltk_data]    | Downloading package product_reviews_2 to\n",
      "[nltk_data]    |     C:\\Users\\satad\\AppData\\Roaming\\nltk_data...\n",
      "[nltk_data]    |   Package product_reviews_2 is already up-to-date!\n",
      "[nltk_data]    | Downloading package propbank to\n",
      "[nltk_data]    |     C:\\Users\\satad\\AppData\\Roaming\\nltk_data...\n",
      "[nltk_data]    |   Package propbank is already up-to-date!\n",
      "[nltk_data]    | Downloading package pros_cons to\n",
      "[nltk_data]    |     C:\\Users\\satad\\AppData\\Roaming\\nltk_data...\n",
      "[nltk_data]    |   Package pros_cons is already up-to-date!\n",
      "[nltk_data]    | Downloading package ptb to\n",
      "[nltk_data]    |     C:\\Users\\satad\\AppData\\Roaming\\nltk_data...\n",
      "[nltk_data]    |   Package ptb is already up-to-date!\n",
      "[nltk_data]    | Downloading package punkt to\n",
      "[nltk_data]    |     C:\\Users\\satad\\AppData\\Roaming\\nltk_data...\n",
      "[nltk_data]    |   Package punkt is already up-to-date!\n",
      "[nltk_data]    | Downloading package qc to\n",
      "[nltk_data]    |     C:\\Users\\satad\\AppData\\Roaming\\nltk_data...\n",
      "[nltk_data]    |   Package qc is already up-to-date!\n",
      "[nltk_data]    | Downloading package reuters to\n",
      "[nltk_data]    |     C:\\Users\\satad\\AppData\\Roaming\\nltk_data...\n",
      "[nltk_data]    |   Package reuters is already up-to-date!\n",
      "[nltk_data]    | Downloading package rslp to\n",
      "[nltk_data]    |     C:\\Users\\satad\\AppData\\Roaming\\nltk_data...\n",
      "[nltk_data]    |   Package rslp is already up-to-date!\n",
      "[nltk_data]    | Downloading package rte to\n",
      "[nltk_data]    |     C:\\Users\\satad\\AppData\\Roaming\\nltk_data...\n",
      "[nltk_data]    |   Package rte is already up-to-date!\n",
      "[nltk_data]    | Downloading package sample_grammars to\n",
      "[nltk_data]    |     C:\\Users\\satad\\AppData\\Roaming\\nltk_data...\n",
      "[nltk_data]    |   Package sample_grammars is already up-to-date!\n",
      "[nltk_data]    | Downloading package semcor to\n",
      "[nltk_data]    |     C:\\Users\\satad\\AppData\\Roaming\\nltk_data...\n",
      "[nltk_data]    |   Package semcor is already up-to-date!\n",
      "[nltk_data]    | Downloading package senseval to\n",
      "[nltk_data]    |     C:\\Users\\satad\\AppData\\Roaming\\nltk_data...\n",
      "[nltk_data]    |   Package senseval is already up-to-date!\n",
      "[nltk_data]    | Downloading package sentence_polarity to\n",
      "[nltk_data]    |     C:\\Users\\satad\\AppData\\Roaming\\nltk_data...\n",
      "[nltk_data]    |   Package sentence_polarity is already up-to-date!\n",
      "[nltk_data]    | Downloading package sentiwordnet to\n",
      "[nltk_data]    |     C:\\Users\\satad\\AppData\\Roaming\\nltk_data...\n",
      "[nltk_data]    |   Package sentiwordnet is already up-to-date!\n",
      "[nltk_data]    | Downloading package shakespeare to\n",
      "[nltk_data]    |     C:\\Users\\satad\\AppData\\Roaming\\nltk_data...\n",
      "[nltk_data]    |   Package shakespeare is already up-to-date!\n",
      "[nltk_data]    | Downloading package sinica_treebank to\n",
      "[nltk_data]    |     C:\\Users\\satad\\AppData\\Roaming\\nltk_data...\n",
      "[nltk_data]    |   Package sinica_treebank is already up-to-date!\n",
      "[nltk_data]    | Downloading package smultron to\n",
      "[nltk_data]    |     C:\\Users\\satad\\AppData\\Roaming\\nltk_data...\n",
      "[nltk_data]    |   Package smultron is already up-to-date!\n",
      "[nltk_data]    | Downloading package snowball_data to\n",
      "[nltk_data]    |     C:\\Users\\satad\\AppData\\Roaming\\nltk_data...\n",
      "[nltk_data]    |   Package snowball_data is already up-to-date!\n",
      "[nltk_data]    | Downloading package spanish_grammars to\n",
      "[nltk_data]    |     C:\\Users\\satad\\AppData\\Roaming\\nltk_data...\n",
      "[nltk_data]    |   Package spanish_grammars is already up-to-date!\n",
      "[nltk_data]    | Downloading package state_union to\n",
      "[nltk_data]    |     C:\\Users\\satad\\AppData\\Roaming\\nltk_data...\n",
      "[nltk_data]    |   Package state_union is already up-to-date!\n",
      "[nltk_data]    | Downloading package stopwords to\n",
      "[nltk_data]    |     C:\\Users\\satad\\AppData\\Roaming\\nltk_data...\n",
      "[nltk_data]    |   Package stopwords is already up-to-date!\n",
      "[nltk_data]    | Downloading package subjectivity to\n",
      "[nltk_data]    |     C:\\Users\\satad\\AppData\\Roaming\\nltk_data...\n",
      "[nltk_data]    |   Package subjectivity is already up-to-date!\n",
      "[nltk_data]    | Downloading package swadesh to\n",
      "[nltk_data]    |     C:\\Users\\satad\\AppData\\Roaming\\nltk_data...\n",
      "[nltk_data]    |   Package swadesh is already up-to-date!\n",
      "[nltk_data]    | Downloading package switchboard to\n",
      "[nltk_data]    |     C:\\Users\\satad\\AppData\\Roaming\\nltk_data...\n",
      "[nltk_data]    |   Package switchboard is already up-to-date!\n",
      "[nltk_data]    | Downloading package tagsets to\n",
      "[nltk_data]    |     C:\\Users\\satad\\AppData\\Roaming\\nltk_data...\n",
      "[nltk_data]    |   Package tagsets is already up-to-date!\n",
      "[nltk_data]    | Downloading package timit to\n",
      "[nltk_data]    |     C:\\Users\\satad\\AppData\\Roaming\\nltk_data...\n",
      "[nltk_data]    |   Package timit is already up-to-date!\n",
      "[nltk_data]    | Downloading package toolbox to\n",
      "[nltk_data]    |     C:\\Users\\satad\\AppData\\Roaming\\nltk_data...\n",
      "[nltk_data]    |   Package toolbox is already up-to-date!\n",
      "[nltk_data]    | Downloading package treebank to\n",
      "[nltk_data]    |     C:\\Users\\satad\\AppData\\Roaming\\nltk_data...\n"
     ]
    },
    {
     "name": "stderr",
     "output_type": "stream",
     "text": [
      "[nltk_data]    |   Package treebank is already up-to-date!\n",
      "[nltk_data]    | Downloading package twitter_samples to\n",
      "[nltk_data]    |     C:\\Users\\satad\\AppData\\Roaming\\nltk_data...\n",
      "[nltk_data]    |   Package twitter_samples is already up-to-date!\n",
      "[nltk_data]    | Downloading package udhr to\n",
      "[nltk_data]    |     C:\\Users\\satad\\AppData\\Roaming\\nltk_data...\n",
      "[nltk_data]    |   Package udhr is already up-to-date!\n",
      "[nltk_data]    | Downloading package udhr2 to\n",
      "[nltk_data]    |     C:\\Users\\satad\\AppData\\Roaming\\nltk_data...\n",
      "[nltk_data]    |   Package udhr2 is already up-to-date!\n",
      "[nltk_data]    | Downloading package unicode_samples to\n",
      "[nltk_data]    |     C:\\Users\\satad\\AppData\\Roaming\\nltk_data...\n",
      "[nltk_data]    |   Package unicode_samples is already up-to-date!\n",
      "[nltk_data]    | Downloading package universal_tagset to\n",
      "[nltk_data]    |     C:\\Users\\satad\\AppData\\Roaming\\nltk_data...\n",
      "[nltk_data]    |   Package universal_tagset is already up-to-date!\n",
      "[nltk_data]    | Downloading package universal_treebanks_v20 to\n",
      "[nltk_data]    |     C:\\Users\\satad\\AppData\\Roaming\\nltk_data...\n",
      "[nltk_data]    |   Package universal_treebanks_v20 is already up-to-\n",
      "[nltk_data]    |       date!\n",
      "[nltk_data]    | Downloading package vader_lexicon to\n",
      "[nltk_data]    |     C:\\Users\\satad\\AppData\\Roaming\\nltk_data...\n",
      "[nltk_data]    |   Package vader_lexicon is already up-to-date!\n",
      "[nltk_data]    | Downloading package verbnet to\n",
      "[nltk_data]    |     C:\\Users\\satad\\AppData\\Roaming\\nltk_data...\n",
      "[nltk_data]    |   Package verbnet is already up-to-date!\n",
      "[nltk_data]    | Downloading package verbnet3 to\n",
      "[nltk_data]    |     C:\\Users\\satad\\AppData\\Roaming\\nltk_data...\n",
      "[nltk_data]    |   Package verbnet3 is already up-to-date!\n",
      "[nltk_data]    | Downloading package webtext to\n",
      "[nltk_data]    |     C:\\Users\\satad\\AppData\\Roaming\\nltk_data...\n",
      "[nltk_data]    |   Package webtext is already up-to-date!\n",
      "[nltk_data]    | Downloading package wmt15_eval to\n",
      "[nltk_data]    |     C:\\Users\\satad\\AppData\\Roaming\\nltk_data...\n",
      "[nltk_data]    |   Package wmt15_eval is already up-to-date!\n",
      "[nltk_data]    | Downloading package word2vec_sample to\n",
      "[nltk_data]    |     C:\\Users\\satad\\AppData\\Roaming\\nltk_data...\n",
      "[nltk_data]    |   Package word2vec_sample is already up-to-date!\n",
      "[nltk_data]    | Downloading package wordnet to\n",
      "[nltk_data]    |     C:\\Users\\satad\\AppData\\Roaming\\nltk_data...\n",
      "[nltk_data]    |   Package wordnet is already up-to-date!\n",
      "[nltk_data]    | Downloading package wordnet2021 to\n",
      "[nltk_data]    |     C:\\Users\\satad\\AppData\\Roaming\\nltk_data...\n",
      "[nltk_data]    |   Package wordnet2021 is already up-to-date!\n",
      "[nltk_data]    | Downloading package wordnet2022 to\n",
      "[nltk_data]    |     C:\\Users\\satad\\AppData\\Roaming\\nltk_data...\n",
      "[nltk_data]    |   Package wordnet2022 is already up-to-date!\n",
      "[nltk_data]    | Downloading package wordnet31 to\n",
      "[nltk_data]    |     C:\\Users\\satad\\AppData\\Roaming\\nltk_data...\n",
      "[nltk_data]    |   Package wordnet31 is already up-to-date!\n",
      "[nltk_data]    | Downloading package wordnet_ic to\n",
      "[nltk_data]    |     C:\\Users\\satad\\AppData\\Roaming\\nltk_data...\n",
      "[nltk_data]    |   Package wordnet_ic is already up-to-date!\n",
      "[nltk_data]    | Downloading package words to\n",
      "[nltk_data]    |     C:\\Users\\satad\\AppData\\Roaming\\nltk_data...\n",
      "[nltk_data]    |   Package words is already up-to-date!\n",
      "[nltk_data]    | Downloading package ycoe to\n",
      "[nltk_data]    |     C:\\Users\\satad\\AppData\\Roaming\\nltk_data...\n",
      "[nltk_data]    |   Package ycoe is already up-to-date!\n",
      "[nltk_data]    | \n",
      "[nltk_data]  Done downloading collection all\n"
     ]
    },
    {
     "data": {
      "text/plain": [
       "True"
      ]
     },
     "execution_count": 57,
     "metadata": {},
     "output_type": "execute_result"
    }
   ],
   "source": [
    "nltk.download('all')"
   ]
  },
  {
   "cell_type": "code",
   "execution_count": 58,
   "id": "1b1b50e8",
   "metadata": {},
   "outputs": [],
   "source": [
    "import os\n",
    "import nltk.corpus"
   ]
  },
  {
   "cell_type": "code",
   "execution_count": 59,
   "id": "03f526f8",
   "metadata": {},
   "outputs": [
    {
     "name": "stdout",
     "output_type": "stream",
     "text": [
      "['abc', 'abc.zip', 'alpino', 'alpino.zip', 'bcp47.zip', 'biocreative_ppi', 'biocreative_ppi.zip', 'brown', 'brown.zip', 'brown_tei', 'brown_tei.zip', 'cess_cat', 'cess_cat.zip', 'cess_esp', 'cess_esp.zip', 'chat80', 'chat80.zip', 'city_database', 'city_database.zip', 'cmudict', 'cmudict.zip', 'comparative_sentences', 'comparative_sentences.zip', 'comtrans.zip', 'conll2000', 'conll2000.zip', 'conll2002', 'conll2002.zip', 'conll2007.zip', 'crubadan', 'crubadan.zip', 'dependency_treebank', 'dependency_treebank.zip', 'dolch', 'dolch.zip', 'europarl_raw', 'europarl_raw.zip', 'extended_omw.zip', 'floresta', 'floresta.zip', 'framenet_v15', 'framenet_v15.zip', 'framenet_v17', 'framenet_v17.zip', 'gazetteers', 'gazetteers.zip', 'genesis', 'genesis.zip', 'gutenberg', 'gutenberg.zip', 'ieer', 'ieer.zip', 'inaugural', 'inaugural.zip', 'indian', 'indian.zip', 'jeita.zip', 'kimmo', 'kimmo.zip', 'knbc.zip', 'lin_thesaurus', 'lin_thesaurus.zip', 'machado.zip', 'mac_morpho', 'mac_morpho.zip', 'masc_tagged.zip', 'movie_reviews', 'movie_reviews.zip', 'mte_teip5', 'mte_teip5.zip', 'names', 'names.zip', 'nombank.1.0.zip', 'nonbreaking_prefixes', 'nonbreaking_prefixes.zip', 'nps_chat', 'nps_chat.zip', 'omw-1.4.zip', 'omw.zip', 'opinion_lexicon', 'opinion_lexicon.zip', 'panlex_swadesh.zip', 'paradigms', 'paradigms.zip', 'pe08', 'pe08.zip', 'pil', 'pil.zip', 'pl196x', 'pl196x.zip', 'ppattach', 'ppattach.zip', 'problem_reports', 'problem_reports.zip', 'product_reviews_1', 'product_reviews_1.zip', 'product_reviews_2', 'product_reviews_2.zip', 'propbank.zip', 'pros_cons', 'pros_cons.zip', 'ptb', 'ptb.zip', 'qc', 'qc.zip', 'reuters.zip', 'rte', 'rte.zip', 'semcor.zip', 'senseval', 'senseval.zip', 'sentence_polarity', 'sentence_polarity.zip', 'sentiwordnet', 'sentiwordnet.zip', 'shakespeare', 'shakespeare.zip', 'sinica_treebank', 'sinica_treebank.zip', 'smultron', 'smultron.zip', 'state_union', 'state_union.zip', 'stopwords', 'stopwords.zip', 'subjectivity', 'subjectivity.zip', 'swadesh', 'swadesh.zip', 'switchboard', 'switchboard.zip', 'timit', 'timit.zip', 'toolbox', 'toolbox.zip', 'treebank', 'treebank.zip', 'twitter_samples', 'twitter_samples.zip', 'udhr', 'udhr.zip', 'udhr2', 'udhr2.zip', 'unicode_samples', 'unicode_samples.zip', 'universal_treebanks_v20.zip', 'verbnet', 'verbnet.zip', 'verbnet3', 'verbnet3.zip', 'webtext', 'webtext.zip', 'wordnet.zip', 'wordnet2021.zip', 'wordnet2022', 'wordnet2022.zip', 'wordnet31.zip', 'wordnet_ic', 'wordnet_ic.zip', 'words', 'words.zip', 'ycoe', 'ycoe.zip']\n"
     ]
    }
   ],
   "source": [
    "print(os.listdir(nltk.data.find(\"corpora\")))"
   ]
  },
  {
   "cell_type": "code",
   "execution_count": 60,
   "id": "849b9dc9",
   "metadata": {},
   "outputs": [
    {
     "data": {
      "text/plain": [
       "['The', 'Fulton', 'County', 'Grand', 'Jury', 'said', ...]"
      ]
     },
     "execution_count": 60,
     "metadata": {},
     "output_type": "execute_result"
    }
   ],
   "source": [
    "from nltk.corpus import brown\n",
    "brown.words()"
   ]
  },
  {
   "cell_type": "code",
   "execution_count": 61,
   "id": "6cd31146",
   "metadata": {},
   "outputs": [
    {
     "data": {
      "text/plain": [
       "['[', 'The', 'Tragedie', 'of', 'Hamlet', 'by', ...]"
      ]
     },
     "execution_count": 61,
     "metadata": {},
     "output_type": "execute_result"
    }
   ],
   "source": [
    "hamlet = nltk.corpus.gutenberg.words('shakespeare-hamlet.txt')\n",
    "hamlet\n",
    "    "
   ]
  },
  {
   "cell_type": "code",
   "execution_count": 62,
   "id": "256137e9",
   "metadata": {},
   "outputs": [
    {
     "name": "stdout",
     "output_type": "stream",
     "text": [
      "[TheTragedieofHamletbyWilliamShakespeare1599]ActusPrimus.ScoenaPrima.EnterBarnardoandFranciscotwoCentinels.Barnardo.Who'sthere?Fran.Nayanswerme:Stand&vnfoldyourselfeBar.LongliuetheKingFran.Barnardo?Bar.HeFran.YoucomemostcarefullyvponyourhoureBar.'Tisnowstrooktwelue,gettheetobedFranciscoFran.Forthisreleefemuchthankes:'Tisbittercold,AndIamsickeatheartBarn.HaueyouhadquietGuard?Fran.NotaMousestirringBarn.Well,goodnight.IfyoudomeetHoratioandMarcellus,theRiualsofmyWatch,bidthemmakehast.EnterHoratioandMarcellus.Fran.IthinkeIhearethem.Stand:who'sthere?Hor.FriendstothisgroundMar.AndLeige-mentotheDaneFran.GiueyougoodnightMar.OfarwelhonestSoldier,whohathrelieu'dyou?Fra.Barnardoha'smyplace:giueyougoodnight.ExitFran.Mar.HollaBarnardoBar.Say,whatisHoratiothere?Hor.ApeeceofhimBar.WelcomeHoratio,welcomegoodMarcellusMar.What,ha'sthisthingappear'dagainetonightBar.IhaueseenenothingMar.Horatiosaies,'tisbutourFantasie,AndwillnotletbeleefetakeholdofhimTouchingthisdreadedsight,twiceseeneofvs,ThereforeIhaueintreatedhimalongWithvs,towatchtheminutesofthisNight,ThatifagainethisApparitioncome,Hemayapproueoureyes,andspeaketoitHor.Tush,tush,'twillnotappeareBar.Sitdownea-while,Andletvsonceagaineassaileyoureares,ThataresofortifiedagainstourStory,WhatwetwoNightshaueseeneHor.Well,sitwedowne,AndletvsheareBarnardospeakeofthisBarn.Lastnightofall,WhenyondsameStarrethat'sWestwardfromthePoleHadmadehiscourset'illumethatpartofHeauenWherenowitburnes,Marcellusandmyselfe,TheBellthenbeatingoneMar.Peace,breaketheeof:EntertheGhost.LookewhereitcomesagaineBarn.Inthesamefigure,liketheKingthat'sdeadMar.ThouartaScholler;speaketoitHoratioBarn.LookesitnotliketheKing?MarkeitHoratioHora.Mostlike:Itharrowesmewithfear&wonderBarn.ItwouldbespoketooMar.QuestionitHoratioHor.Whatart"
     ]
    }
   ],
   "source": [
    "for word in hamlet[:500]:\n",
    "    print(word, sep='', end='')"
   ]
  },
  {
   "cell_type": "code",
   "execution_count": 63,
   "id": "c78c5b49",
   "metadata": {},
   "outputs": [],
   "source": [
    "AI = \"\"\"While a number of definitions of artificial intelligence (AI) have surfaced over the last few decades, John McCarthy offers the following definition in this 2004 paper (link resides outside ibm.com), \" It is the science and engineering of making intelligent machines, especially intelligent computer programs. It is related to the similar task of using computers to understand human intelligence, but AI does not have to confine itself to methods that are biologically observable.\"\n",
    "\n",
    "However, decades before this definition, the birth of the artificial intelligence conversation was denoted by Alan Turing's seminal work, \"Computing Machinery and Intelligence\"(link resides outside ibm.com), which was published in 1950. In this paper, Turing, often referred to as the \"father of computer science\", asks the following question, \"Can machines think?\"  From there, he offers a test, now famously known as the \"Turing Test\", where a human interrogator would try to distinguish between a computer and human text response. While this test has undergone much scrutiny since its publish, it remains an important part of the history of AI as well as an ongoing concept within philosophy as it utilizes ideas around linguistics.\n",
    "Stuart Russell and Peter Norvig then proceeded to publish, Artificial Intelligence: A Modern Approach (link resides outside ibm.com), becoming one of the leading textbooks in the study of AI. In it, they delve into four potential goals or definitions of AI, which differentiates computer systems on the basis of rationality and thinking vs. acting:\n",
    "\n",
    "Human approach:\n",
    "\n",
    "Systems that think like humans\n",
    "Systems that act like humans\n",
    "Ideal approach:\n",
    "\n",
    "Systems that think rationally\n",
    "Systems that act rationally\"\"\""
   ]
  },
  {
   "cell_type": "code",
   "execution_count": 64,
   "id": "83306cb4",
   "metadata": {},
   "outputs": [
    {
     "data": {
      "text/plain": [
       "str"
      ]
     },
     "execution_count": 64,
     "metadata": {},
     "output_type": "execute_result"
    }
   ],
   "source": [
    "type(AI )"
   ]
  },
  {
   "cell_type": "code",
   "execution_count": 65,
   "id": "a802a390",
   "metadata": {},
   "outputs": [],
   "source": [
    "#importing word_tokenize to check word as a token\n",
    "from nltk.tokenize import word_tokenize"
   ]
  },
  {
   "cell_type": "code",
   "execution_count": 66,
   "id": "aa19304a",
   "metadata": {},
   "outputs": [
    {
     "data": {
      "text/plain": [
       "['While',\n",
       " 'a',\n",
       " 'number',\n",
       " 'of',\n",
       " 'definitions',\n",
       " 'of',\n",
       " 'artificial',\n",
       " 'intelligence',\n",
       " '(',\n",
       " 'AI',\n",
       " ')',\n",
       " 'have',\n",
       " 'surfaced',\n",
       " 'over',\n",
       " 'the',\n",
       " 'last',\n",
       " 'few',\n",
       " 'decades',\n",
       " ',',\n",
       " 'John',\n",
       " 'McCarthy',\n",
       " 'offers',\n",
       " 'the',\n",
       " 'following',\n",
       " 'definition',\n",
       " 'in',\n",
       " 'this',\n",
       " '2004',\n",
       " 'paper',\n",
       " '(',\n",
       " 'link',\n",
       " 'resides',\n",
       " 'outside',\n",
       " 'ibm.com',\n",
       " ')',\n",
       " ',',\n",
       " '``',\n",
       " 'It',\n",
       " 'is',\n",
       " 'the',\n",
       " 'science',\n",
       " 'and',\n",
       " 'engineering',\n",
       " 'of',\n",
       " 'making',\n",
       " 'intelligent',\n",
       " 'machines',\n",
       " ',',\n",
       " 'especially',\n",
       " 'intelligent',\n",
       " 'computer',\n",
       " 'programs',\n",
       " '.',\n",
       " 'It',\n",
       " 'is',\n",
       " 'related',\n",
       " 'to',\n",
       " 'the',\n",
       " 'similar',\n",
       " 'task',\n",
       " 'of',\n",
       " 'using',\n",
       " 'computers',\n",
       " 'to',\n",
       " 'understand',\n",
       " 'human',\n",
       " 'intelligence',\n",
       " ',',\n",
       " 'but',\n",
       " 'AI',\n",
       " 'does',\n",
       " 'not',\n",
       " 'have',\n",
       " 'to',\n",
       " 'confine',\n",
       " 'itself',\n",
       " 'to',\n",
       " 'methods',\n",
       " 'that',\n",
       " 'are',\n",
       " 'biologically',\n",
       " 'observable',\n",
       " '.',\n",
       " \"''\",\n",
       " 'However',\n",
       " ',',\n",
       " 'decades',\n",
       " 'before',\n",
       " 'this',\n",
       " 'definition',\n",
       " ',',\n",
       " 'the',\n",
       " 'birth',\n",
       " 'of',\n",
       " 'the',\n",
       " 'artificial',\n",
       " 'intelligence',\n",
       " 'conversation',\n",
       " 'was',\n",
       " 'denoted',\n",
       " 'by',\n",
       " 'Alan',\n",
       " 'Turing',\n",
       " \"'s\",\n",
       " 'seminal',\n",
       " 'work',\n",
       " ',',\n",
       " '``',\n",
       " 'Computing',\n",
       " 'Machinery',\n",
       " 'and',\n",
       " 'Intelligence',\n",
       " \"''\",\n",
       " '(',\n",
       " 'link',\n",
       " 'resides',\n",
       " 'outside',\n",
       " 'ibm.com',\n",
       " ')',\n",
       " ',',\n",
       " 'which',\n",
       " 'was',\n",
       " 'published',\n",
       " 'in',\n",
       " '1950',\n",
       " '.',\n",
       " 'In',\n",
       " 'this',\n",
       " 'paper',\n",
       " ',',\n",
       " 'Turing',\n",
       " ',',\n",
       " 'often',\n",
       " 'referred',\n",
       " 'to',\n",
       " 'as',\n",
       " 'the',\n",
       " '``',\n",
       " 'father',\n",
       " 'of',\n",
       " 'computer',\n",
       " 'science',\n",
       " \"''\",\n",
       " ',',\n",
       " 'asks',\n",
       " 'the',\n",
       " 'following',\n",
       " 'question',\n",
       " ',',\n",
       " '``',\n",
       " 'Can',\n",
       " 'machines',\n",
       " 'think',\n",
       " '?',\n",
       " \"''\",\n",
       " 'From',\n",
       " 'there',\n",
       " ',',\n",
       " 'he',\n",
       " 'offers',\n",
       " 'a',\n",
       " 'test',\n",
       " ',',\n",
       " 'now',\n",
       " 'famously',\n",
       " 'known',\n",
       " 'as',\n",
       " 'the',\n",
       " '``',\n",
       " 'Turing',\n",
       " 'Test',\n",
       " \"''\",\n",
       " ',',\n",
       " 'where',\n",
       " 'a',\n",
       " 'human',\n",
       " 'interrogator',\n",
       " 'would',\n",
       " 'try',\n",
       " 'to',\n",
       " 'distinguish',\n",
       " 'between',\n",
       " 'a',\n",
       " 'computer',\n",
       " 'and',\n",
       " 'human',\n",
       " 'text',\n",
       " 'response',\n",
       " '.',\n",
       " 'While',\n",
       " 'this',\n",
       " 'test',\n",
       " 'has',\n",
       " 'undergone',\n",
       " 'much',\n",
       " 'scrutiny',\n",
       " 'since',\n",
       " 'its',\n",
       " 'publish',\n",
       " ',',\n",
       " 'it',\n",
       " 'remains',\n",
       " 'an',\n",
       " 'important',\n",
       " 'part',\n",
       " 'of',\n",
       " 'the',\n",
       " 'history',\n",
       " 'of',\n",
       " 'AI',\n",
       " 'as',\n",
       " 'well',\n",
       " 'as',\n",
       " 'an',\n",
       " 'ongoing',\n",
       " 'concept',\n",
       " 'within',\n",
       " 'philosophy',\n",
       " 'as',\n",
       " 'it',\n",
       " 'utilizes',\n",
       " 'ideas',\n",
       " 'around',\n",
       " 'linguistics',\n",
       " '.',\n",
       " 'Stuart',\n",
       " 'Russell',\n",
       " 'and',\n",
       " 'Peter',\n",
       " 'Norvig',\n",
       " 'then',\n",
       " 'proceeded',\n",
       " 'to',\n",
       " 'publish',\n",
       " ',',\n",
       " 'Artificial',\n",
       " 'Intelligence',\n",
       " ':',\n",
       " 'A',\n",
       " 'Modern',\n",
       " 'Approach',\n",
       " '(',\n",
       " 'link',\n",
       " 'resides',\n",
       " 'outside',\n",
       " 'ibm.com',\n",
       " ')',\n",
       " ',',\n",
       " 'becoming',\n",
       " 'one',\n",
       " 'of',\n",
       " 'the',\n",
       " 'leading',\n",
       " 'textbooks',\n",
       " 'in',\n",
       " 'the',\n",
       " 'study',\n",
       " 'of',\n",
       " 'AI',\n",
       " '.',\n",
       " 'In',\n",
       " 'it',\n",
       " ',',\n",
       " 'they',\n",
       " 'delve',\n",
       " 'into',\n",
       " 'four',\n",
       " 'potential',\n",
       " 'goals',\n",
       " 'or',\n",
       " 'definitions',\n",
       " 'of',\n",
       " 'AI',\n",
       " ',',\n",
       " 'which',\n",
       " 'differentiates',\n",
       " 'computer',\n",
       " 'systems',\n",
       " 'on',\n",
       " 'the',\n",
       " 'basis',\n",
       " 'of',\n",
       " 'rationality',\n",
       " 'and',\n",
       " 'thinking',\n",
       " 'vs.',\n",
       " 'acting',\n",
       " ':',\n",
       " 'Human',\n",
       " 'approach',\n",
       " ':',\n",
       " 'Systems',\n",
       " 'that',\n",
       " 'think',\n",
       " 'like',\n",
       " 'humans',\n",
       " 'Systems',\n",
       " 'that',\n",
       " 'act',\n",
       " 'like',\n",
       " 'humans',\n",
       " 'Ideal',\n",
       " 'approach',\n",
       " ':',\n",
       " 'Systems',\n",
       " 'that',\n",
       " 'think',\n",
       " 'rationally',\n",
       " 'Systems',\n",
       " 'that',\n",
       " 'act',\n",
       " 'rationally']"
      ]
     },
     "execution_count": 66,
     "metadata": {},
     "output_type": "execute_result"
    }
   ],
   "source": [
    "AI_tokens = word_tokenize(AI)\n",
    "AI_tokens"
   ]
  },
  {
   "cell_type": "code",
   "execution_count": 67,
   "id": "69dc0cb0",
   "metadata": {},
   "outputs": [
    {
     "data": {
      "text/plain": [
       "312"
      ]
     },
     "execution_count": 67,
     "metadata": {},
     "output_type": "execute_result"
    }
   ],
   "source": [
    "len(AI_tokens)"
   ]
  },
  {
   "cell_type": "code",
   "execution_count": 68,
   "id": "e232f8b9",
   "metadata": {},
   "outputs": [],
   "source": [
    "from nltk.probability import FreqDist\n",
    "fdist = FreqDist()"
   ]
  },
  {
   "cell_type": "code",
   "execution_count": 69,
   "id": "54d39c03",
   "metadata": {},
   "outputs": [
    {
     "data": {
      "text/plain": [
       "FreqDist({',': 20, 'the': 13, 'of': 12, 'to': 7, '.': 6, 'a': 5, 'intelligence': 5, 'ai': 5, 'in': 5, '``': 5, ...})"
      ]
     },
     "execution_count": 69,
     "metadata": {},
     "output_type": "execute_result"
    }
   ],
   "source": [
    "for word in AI_tokens:\n",
    "    fdist[word.lower()]+=1\n",
    "fdist"
   ]
  },
  {
   "cell_type": "code",
   "execution_count": 70,
   "id": "6f7b1ff1",
   "metadata": {},
   "outputs": [
    {
     "data": {
      "text/plain": [
       "5"
      ]
     },
     "execution_count": 70,
     "metadata": {},
     "output_type": "execute_result"
    }
   ],
   "source": [
    "#to know the frq. of a word\n",
    "fdist['intelligence']"
   ]
  },
  {
   "cell_type": "code",
   "execution_count": 71,
   "id": "72886a74",
   "metadata": {},
   "outputs": [
    {
     "data": {
      "text/plain": [
       "159"
      ]
     },
     "execution_count": 71,
     "metadata": {},
     "output_type": "execute_result"
    }
   ],
   "source": [
    "#length of fdist tokens\n",
    "len(fdist)"
   ]
  },
  {
   "cell_type": "code",
   "execution_count": 72,
   "id": "90405bd0",
   "metadata": {},
   "outputs": [
    {
     "data": {
      "text/plain": [
       "[(',', 20),\n",
       " ('the', 13),\n",
       " ('of', 12),\n",
       " ('to', 7),\n",
       " ('.', 6),\n",
       " ('a', 5),\n",
       " ('intelligence', 5),\n",
       " ('ai', 5),\n",
       " ('in', 5),\n",
       " ('``', 5)]"
      ]
     },
     "execution_count": 72,
     "metadata": {},
     "output_type": "execute_result"
    }
   ],
   "source": [
    "#finding top 10 tokens with highest frequency\n",
    "fdist_top10 = fdist.most_common(10)\n",
    "fdist_top10"
   ]
  },
  {
   "cell_type": "code",
   "execution_count": 73,
   "id": "fe8235c0",
   "metadata": {},
   "outputs": [
    {
     "data": {
      "text/plain": [
       "5"
      ]
     },
     "execution_count": 73,
     "metadata": {},
     "output_type": "execute_result"
    }
   ],
   "source": [
    "#token as a paragraph w.r.t. check blank\n",
    "#importing blankline_tokenize\n",
    "from nltk.tokenize import blankline_tokenize\n",
    "AI_blank=blankline_tokenize(AI)\n",
    "len(AI_blank)"
   ]
  },
  {
   "cell_type": "code",
   "execution_count": 74,
   "id": "1675a860",
   "metadata": {},
   "outputs": [],
   "source": [
    "#bi grams = tokens of two consecutive written words\n",
    "#tri grams = tokens of three consecutive written words\n",
    "#n grams = tokens of n consecutive written words\n",
    "#importing bigrams, trigrams and ngrams\n",
    "from nltk.util import bigrams,trigrams,ngrams"
   ]
  },
  {
   "cell_type": "code",
   "execution_count": 75,
   "id": "cd9a45a7",
   "metadata": {},
   "outputs": [
    {
     "data": {
      "text/plain": [
       "['The',\n",
       " 'greatest',\n",
       " 'glory',\n",
       " 'in',\n",
       " 'living',\n",
       " 'lies',\n",
       " 'not',\n",
       " 'in',\n",
       " 'never',\n",
       " 'falling',\n",
       " ',',\n",
       " 'but',\n",
       " 'in',\n",
       " 'rising',\n",
       " 'every',\n",
       " 'time',\n",
       " 'we',\n",
       " 'fall',\n",
       " '.',\n",
       " '-Nelson',\n",
       " 'Mandela']"
      ]
     },
     "execution_count": 75,
     "metadata": {},
     "output_type": "execute_result"
    }
   ],
   "source": [
    "#taking a string and tokenizing using words\n",
    "string = \"The greatest glory in living lies not in never falling, but in rising every time we fall. -Nelson Mandela\"\n",
    "quotes_tokens = nltk.word_tokenize(string)\n",
    "quotes_tokens"
   ]
  },
  {
   "cell_type": "code",
   "execution_count": 76,
   "id": "50f97bf2",
   "metadata": {},
   "outputs": [
    {
     "data": {
      "text/plain": [
       "[('The', 'greatest'),\n",
       " ('greatest', 'glory'),\n",
       " ('glory', 'in'),\n",
       " ('in', 'living'),\n",
       " ('living', 'lies'),\n",
       " ('lies', 'not'),\n",
       " ('not', 'in'),\n",
       " ('in', 'never'),\n",
       " ('never', 'falling'),\n",
       " ('falling', ','),\n",
       " (',', 'but'),\n",
       " ('but', 'in'),\n",
       " ('in', 'rising'),\n",
       " ('rising', 'every'),\n",
       " ('every', 'time'),\n",
       " ('time', 'we'),\n",
       " ('we', 'fall'),\n",
       " ('fall', '.'),\n",
       " ('.', '-Nelson'),\n",
       " ('-Nelson', 'Mandela')]"
      ]
     },
     "execution_count": 76,
     "metadata": {},
     "output_type": "execute_result"
    }
   ],
   "source": [
    "#using bigrams of the same string \n",
    "quotes_bigrams = list(nltk.bigrams(quotes_tokens))\n",
    "quotes_bigrams"
   ]
  },
  {
   "cell_type": "code",
   "execution_count": 77,
   "id": "f9add358",
   "metadata": {},
   "outputs": [
    {
     "data": {
      "text/plain": [
       "[('The', 'greatest', 'glory'),\n",
       " ('greatest', 'glory', 'in'),\n",
       " ('glory', 'in', 'living'),\n",
       " ('in', 'living', 'lies'),\n",
       " ('living', 'lies', 'not'),\n",
       " ('lies', 'not', 'in'),\n",
       " ('not', 'in', 'never'),\n",
       " ('in', 'never', 'falling'),\n",
       " ('never', 'falling', ','),\n",
       " ('falling', ',', 'but'),\n",
       " (',', 'but', 'in'),\n",
       " ('but', 'in', 'rising'),\n",
       " ('in', 'rising', 'every'),\n",
       " ('rising', 'every', 'time'),\n",
       " ('every', 'time', 'we'),\n",
       " ('time', 'we', 'fall'),\n",
       " ('we', 'fall', '.'),\n",
       " ('fall', '.', '-Nelson'),\n",
       " ('.', '-Nelson', 'Mandela')]"
      ]
     },
     "execution_count": 77,
     "metadata": {},
     "output_type": "execute_result"
    }
   ],
   "source": [
    "#using trigrams of the same string \n",
    "quotes_trigrams = list(nltk.trigrams(quotes_tokens))\n",
    "quotes_trigrams"
   ]
  },
  {
   "cell_type": "code",
   "execution_count": 78,
   "id": "4453c0cb",
   "metadata": {},
   "outputs": [
    {
     "data": {
      "text/plain": [
       "[('The', 'greatest', 'glory', 'in', 'living'),\n",
       " ('greatest', 'glory', 'in', 'living', 'lies'),\n",
       " ('glory', 'in', 'living', 'lies', 'not'),\n",
       " ('in', 'living', 'lies', 'not', 'in'),\n",
       " ('living', 'lies', 'not', 'in', 'never'),\n",
       " ('lies', 'not', 'in', 'never', 'falling'),\n",
       " ('not', 'in', 'never', 'falling', ','),\n",
       " ('in', 'never', 'falling', ',', 'but'),\n",
       " ('never', 'falling', ',', 'but', 'in'),\n",
       " ('falling', ',', 'but', 'in', 'rising'),\n",
       " (',', 'but', 'in', 'rising', 'every'),\n",
       " ('but', 'in', 'rising', 'every', 'time'),\n",
       " ('in', 'rising', 'every', 'time', 'we'),\n",
       " ('rising', 'every', 'time', 'we', 'fall'),\n",
       " ('every', 'time', 'we', 'fall', '.'),\n",
       " ('time', 'we', 'fall', '.', '-Nelson'),\n",
       " ('we', 'fall', '.', '-Nelson', 'Mandela')]"
      ]
     },
     "execution_count": 78,
     "metadata": {},
     "output_type": "execute_result"
    }
   ],
   "source": [
    "#using ngrams of the same string and set the token size to 5\n",
    "quotes_ngrams = list(nltk.ngrams(quotes_tokens, 5))\n",
    "quotes_ngrams"
   ]
  },
  {
   "cell_type": "markdown",
   "id": "56ce6f61",
   "metadata": {},
   "source": [
    "## Stemming\n"
   ]
  },
  {
   "cell_type": "markdown",
   "id": "97c2ac10",
   "metadata": {},
   "source": [
    "Stemming normalize words into its base form or root form (using suffix or prefixes to understand)\n"
   ]
  },
  {
   "cell_type": "markdown",
   "id": "4a95a347",
   "metadata": {},
   "source": [
    "Affection-Affects-Affections-Affected-Affection-Affecting"
   ]
  },
  {
   "cell_type": "code",
   "execution_count": 79,
   "id": "ccda98c9",
   "metadata": {},
   "outputs": [],
   "source": [
    "#importing porterstemmer from nltk(several types of stemmer available)\n",
    "from nltk.stem import PorterStemmer\n",
    "pst = PorterStemmer()"
   ]
  },
  {
   "cell_type": "code",
   "execution_count": 80,
   "id": "cc181019",
   "metadata": {},
   "outputs": [
    {
     "data": {
      "text/plain": [
       "'have'"
      ]
     },
     "execution_count": 80,
     "metadata": {},
     "output_type": "execute_result"
    }
   ],
   "source": [
    "#stemming the word having, we get the actual output of the word\n",
    "pst.stem(\"having\")"
   ]
  },
  {
   "cell_type": "code",
   "execution_count": 81,
   "id": "abb9a597",
   "metadata": {},
   "outputs": [
    {
     "name": "stdout",
     "output_type": "stream",
     "text": [
      "give:give\n",
      "given:given\n",
      "giving:give\n",
      "gave:gave\n"
     ]
    }
   ],
   "source": [
    "#stemming example using a word\n",
    "words_to_stem=[\"give\",\"given\",\"giving\",\"gave\"]\n",
    "for words in words_to_stem:\n",
    "    print(words+ \":\" +pst.stem(words))"
   ]
  },
  {
   "cell_type": "code",
   "execution_count": 82,
   "id": "0261b7a0",
   "metadata": {},
   "outputs": [
    {
     "name": "stdout",
     "output_type": "stream",
     "text": [
      "give:giv\n",
      "given:giv\n",
      "giving:giv\n",
      "gave:gav\n"
     ]
    }
   ],
   "source": [
    "#imporing LancasterStemmer to check the difference we have with porterstemmer\n",
    "from nltk.stem import LancasterStemmer\n",
    "lst=LancasterStemmer()\n",
    "for words in words_to_stem:\n",
    "    print(words+ \":\" +lst.stem(words))\n",
    "#sol: LancasterStemmer is much aggresive than porterstemmer"
   ]
  },
  {
   "cell_type": "code",
   "execution_count": 83,
   "id": "f8c5a7c7",
   "metadata": {},
   "outputs": [],
   "source": [
    "#imporing snowball stemmer\n",
    "from nltk.stem import SnowballStemmer\n",
    "sbst = SnowballStemmer('english')\n",
    "#for SnowballStemmer we have to provide the language which is english here"
   ]
  },
  {
   "cell_type": "code",
   "execution_count": 84,
   "id": "087dd7b9",
   "metadata": {},
   "outputs": [
    {
     "name": "stdout",
     "output_type": "stream",
     "text": [
      "give:give\n",
      "given:given\n",
      "giving:give\n",
      "gave:gave\n"
     ]
    }
   ],
   "source": [
    "for words in words_to_stem:\n",
    "    print(words+ \":\" +sbst.stem(words))\n",
    "#though it is as same as porter stemmer but it differs in different terms"
   ]
  },
  {
   "cell_type": "markdown",
   "id": "c4c682d5",
   "metadata": {},
   "source": [
    "## Lemmatization"
   ]
  },
  {
   "cell_type": "markdown",
   "id": "78606f23",
   "metadata": {},
   "source": [
    "Groups together infected forms of a word, called Lemma\n"
   ]
  },
  {
   "cell_type": "markdown",
   "id": "2b0b3141",
   "metadata": {},
   "source": [
    "Somehow similar to Stemming, as it maps several words into one common root"
   ]
  },
  {
   "cell_type": "markdown",
   "id": "18511937",
   "metadata": {},
   "source": [
    "Output of Lemmatisation is a proper word"
   ]
  },
  {
   "cell_type": "markdown",
   "id": "069ce7e0",
   "metadata": {},
   "source": [
    "e.g: A Lemmatization should map gone,going and went into go"
   ]
  },
  {
   "cell_type": "markdown",
   "id": "5d336099",
   "metadata": {},
   "source": [
    "#importing wordnet as a dictionary\n",
    "from nltk.stem import wordnet\n",
    "from nltk.stem import WordNetLemmatizer \n",
    "word_len=WordNetLemmatizer()"
   ]
  },
  {
   "cell_type": "code",
   "execution_count": 85,
   "id": "4268857d",
   "metadata": {},
   "outputs": [
    {
     "data": {
      "text/plain": [
       "'corpus'"
      ]
     },
     "execution_count": 85,
     "metadata": {},
     "output_type": "execute_result"
    }
   ],
   "source": [
    "#The output of lemmatization is a proper word\n",
    "word_len.lemmatize('corpora')\n",
    "#output of corpora is a proper word corpus"
   ]
  },
  {
   "cell_type": "code",
   "execution_count": 86,
   "id": "bc5eb12a",
   "metadata": {},
   "outputs": [
    {
     "name": "stdout",
     "output_type": "stream",
     "text": [
      "give:give\n",
      "given:given\n",
      "giving:giving\n",
      "gave:gave\n"
     ]
    }
   ],
   "source": [
    "#as we didnt use the pos (parts of speech) it returns the same tag\n",
    "for words in words_to_stem:\n",
    "    print(words+ \":\" +word_len.lemmatize(words))"
   ]
  },
  {
   "cell_type": "markdown",
   "id": "0d8d9f58",
   "metadata": {},
   "source": [
    "## Stopwords"
   ]
  },
  {
   "cell_type": "markdown",
   "id": "90be2f26",
   "metadata": {},
   "source": [
    "widely used words (such as “the,” “a,” “an,” or “in”) that a search engine has been configured to disregard while indexing and retrieving entries."
   ]
  },
  {
   "cell_type": "markdown",
   "id": "7f8747d7",
   "metadata": {},
   "source": [
    "nltk has its own list of stopwords which we need to import"
   ]
  },
  {
   "cell_type": "code",
   "execution_count": 87,
   "id": "a930e8a1",
   "metadata": {},
   "outputs": [],
   "source": [
    "from nltk.corpus import stopwords"
   ]
  },
  {
   "cell_type": "markdown",
   "id": "9af8e269",
   "metadata": {},
   "source": [
    "we need to mention the language i.e english in here"
   ]
  },
  {
   "cell_type": "code",
   "execution_count": 88,
   "id": "7c45c688",
   "metadata": {},
   "outputs": [
    {
     "data": {
      "text/plain": [
       "['i',\n",
       " 'me',\n",
       " 'my',\n",
       " 'myself',\n",
       " 'we',\n",
       " 'our',\n",
       " 'ours',\n",
       " 'ourselves',\n",
       " 'you',\n",
       " \"you're\",\n",
       " \"you've\",\n",
       " \"you'll\",\n",
       " \"you'd\",\n",
       " 'your',\n",
       " 'yours',\n",
       " 'yourself',\n",
       " 'yourselves',\n",
       " 'he',\n",
       " 'him',\n",
       " 'his',\n",
       " 'himself',\n",
       " 'she',\n",
       " \"she's\",\n",
       " 'her',\n",
       " 'hers',\n",
       " 'herself',\n",
       " 'it',\n",
       " \"it's\",\n",
       " 'its',\n",
       " 'itself',\n",
       " 'they',\n",
       " 'them',\n",
       " 'their',\n",
       " 'theirs',\n",
       " 'themselves',\n",
       " 'what',\n",
       " 'which',\n",
       " 'who',\n",
       " 'whom',\n",
       " 'this',\n",
       " 'that',\n",
       " \"that'll\",\n",
       " 'these',\n",
       " 'those',\n",
       " 'am',\n",
       " 'is',\n",
       " 'are',\n",
       " 'was',\n",
       " 'were',\n",
       " 'be',\n",
       " 'been',\n",
       " 'being',\n",
       " 'have',\n",
       " 'has',\n",
       " 'had',\n",
       " 'having',\n",
       " 'do',\n",
       " 'does',\n",
       " 'did',\n",
       " 'doing',\n",
       " 'a',\n",
       " 'an',\n",
       " 'the',\n",
       " 'and',\n",
       " 'but',\n",
       " 'if',\n",
       " 'or',\n",
       " 'because',\n",
       " 'as',\n",
       " 'until',\n",
       " 'while',\n",
       " 'of',\n",
       " 'at',\n",
       " 'by',\n",
       " 'for',\n",
       " 'with',\n",
       " 'about',\n",
       " 'against',\n",
       " 'between',\n",
       " 'into',\n",
       " 'through',\n",
       " 'during',\n",
       " 'before',\n",
       " 'after',\n",
       " 'above',\n",
       " 'below',\n",
       " 'to',\n",
       " 'from',\n",
       " 'up',\n",
       " 'down',\n",
       " 'in',\n",
       " 'out',\n",
       " 'on',\n",
       " 'off',\n",
       " 'over',\n",
       " 'under',\n",
       " 'again',\n",
       " 'further',\n",
       " 'then',\n",
       " 'once',\n",
       " 'here',\n",
       " 'there',\n",
       " 'when',\n",
       " 'where',\n",
       " 'why',\n",
       " 'how',\n",
       " 'all',\n",
       " 'any',\n",
       " 'both',\n",
       " 'each',\n",
       " 'few',\n",
       " 'more',\n",
       " 'most',\n",
       " 'other',\n",
       " 'some',\n",
       " 'such',\n",
       " 'no',\n",
       " 'nor',\n",
       " 'not',\n",
       " 'only',\n",
       " 'own',\n",
       " 'same',\n",
       " 'so',\n",
       " 'than',\n",
       " 'too',\n",
       " 'very',\n",
       " 's',\n",
       " 't',\n",
       " 'can',\n",
       " 'will',\n",
       " 'just',\n",
       " 'don',\n",
       " \"don't\",\n",
       " 'should',\n",
       " \"should've\",\n",
       " 'now',\n",
       " 'd',\n",
       " 'll',\n",
       " 'm',\n",
       " 'o',\n",
       " 're',\n",
       " 've',\n",
       " 'y',\n",
       " 'ain',\n",
       " 'aren',\n",
       " \"aren't\",\n",
       " 'couldn',\n",
       " \"couldn't\",\n",
       " 'didn',\n",
       " \"didn't\",\n",
       " 'doesn',\n",
       " \"doesn't\",\n",
       " 'hadn',\n",
       " \"hadn't\",\n",
       " 'hasn',\n",
       " \"hasn't\",\n",
       " 'haven',\n",
       " \"haven't\",\n",
       " 'isn',\n",
       " \"isn't\",\n",
       " 'ma',\n",
       " 'mightn',\n",
       " \"mightn't\",\n",
       " 'mustn',\n",
       " \"mustn't\",\n",
       " 'needn',\n",
       " \"needn't\",\n",
       " 'shan',\n",
       " \"shan't\",\n",
       " 'shouldn',\n",
       " \"shouldn't\",\n",
       " 'wasn',\n",
       " \"wasn't\",\n",
       " 'weren',\n",
       " \"weren't\",\n",
       " 'won',\n",
       " \"won't\",\n",
       " 'wouldn',\n",
       " \"wouldn't\"]"
      ]
     },
     "execution_count": 88,
     "metadata": {},
     "output_type": "execute_result"
    }
   ],
   "source": [
    "#stopwords in the dictionary\n",
    "stopwords.words('english')"
   ]
  },
  {
   "cell_type": "code",
   "execution_count": 89,
   "id": "a594665d",
   "metadata": {},
   "outputs": [
    {
     "data": {
      "text/plain": [
       "179"
      ]
     },
     "execution_count": 89,
     "metadata": {},
     "output_type": "execute_result"
    }
   ],
   "source": [
    "#length of stopwords\n",
    "len(stopwords.words('english'))"
   ]
  },
  {
   "cell_type": "code",
   "execution_count": 90,
   "id": "eb31a790",
   "metadata": {},
   "outputs": [
    {
     "data": {
      "text/plain": [
       "[(',', 20),\n",
       " ('the', 13),\n",
       " ('of', 12),\n",
       " ('to', 7),\n",
       " ('.', 6),\n",
       " ('a', 5),\n",
       " ('intelligence', 5),\n",
       " ('ai', 5),\n",
       " ('in', 5),\n",
       " ('``', 5)]"
      ]
     },
     "execution_count": 90,
     "metadata": {},
     "output_type": "execute_result"
    }
   ],
   "source": [
    "#top 10 stop words (they are not any )\n",
    "#do not provide any value to the language processing and hence it can be removed\n",
    "fdist_top10"
   ]
  },
  {
   "cell_type": "code",
   "execution_count": 96,
   "id": "20a7cc63",
   "metadata": {},
   "outputs": [],
   "source": [
    "#from re module we create a string that matches any digits or the special  characters\n",
    "import re\n",
    "punctuation = re.compile(r'[-.?!,:;()|0-9]')"
   ]
  },
  {
   "cell_type": "code",
   "execution_count": 97,
   "id": "443ca57e",
   "metadata": {},
   "outputs": [],
   "source": [
    "#post punctuation removes any numbers, special characters \n",
    "post_punctuation = []\n",
    "for words in AI_tokens:\n",
    "    word = punctuation.sub(\"\",words)\n",
    "    if len(word)>0:\n",
    "        post_punctuation.append(word)"
   ]
  },
  {
   "cell_type": "code",
   "execution_count": 98,
   "id": "283e1f65",
   "metadata": {},
   "outputs": [
    {
     "data": {
      "text/plain": [
       "['While',\n",
       " 'a',\n",
       " 'number',\n",
       " 'of',\n",
       " 'definitions',\n",
       " 'of',\n",
       " 'artificial',\n",
       " 'intelligence',\n",
       " 'AI',\n",
       " 'have',\n",
       " 'surfaced',\n",
       " 'over',\n",
       " 'the',\n",
       " 'last',\n",
       " 'few',\n",
       " 'decades',\n",
       " 'John',\n",
       " 'McCarthy',\n",
       " 'offers',\n",
       " 'the',\n",
       " 'following',\n",
       " 'definition',\n",
       " 'in',\n",
       " 'this',\n",
       " 'paper',\n",
       " 'link',\n",
       " 'resides',\n",
       " 'outside',\n",
       " 'ibmcom',\n",
       " '``',\n",
       " 'It',\n",
       " 'is',\n",
       " 'the',\n",
       " 'science',\n",
       " 'and',\n",
       " 'engineering',\n",
       " 'of',\n",
       " 'making',\n",
       " 'intelligent',\n",
       " 'machines',\n",
       " 'especially',\n",
       " 'intelligent',\n",
       " 'computer',\n",
       " 'programs',\n",
       " 'It',\n",
       " 'is',\n",
       " 'related',\n",
       " 'to',\n",
       " 'the',\n",
       " 'similar',\n",
       " 'task',\n",
       " 'of',\n",
       " 'using',\n",
       " 'computers',\n",
       " 'to',\n",
       " 'understand',\n",
       " 'human',\n",
       " 'intelligence',\n",
       " 'but',\n",
       " 'AI',\n",
       " 'does',\n",
       " 'not',\n",
       " 'have',\n",
       " 'to',\n",
       " 'confine',\n",
       " 'itself',\n",
       " 'to',\n",
       " 'methods',\n",
       " 'that',\n",
       " 'are',\n",
       " 'biologically',\n",
       " 'observable',\n",
       " \"''\",\n",
       " 'However',\n",
       " 'decades',\n",
       " 'before',\n",
       " 'this',\n",
       " 'definition',\n",
       " 'the',\n",
       " 'birth',\n",
       " 'of',\n",
       " 'the',\n",
       " 'artificial',\n",
       " 'intelligence',\n",
       " 'conversation',\n",
       " 'was',\n",
       " 'denoted',\n",
       " 'by',\n",
       " 'Alan',\n",
       " 'Turing',\n",
       " \"'s\",\n",
       " 'seminal',\n",
       " 'work',\n",
       " '``',\n",
       " 'Computing',\n",
       " 'Machinery',\n",
       " 'and',\n",
       " 'Intelligence',\n",
       " \"''\",\n",
       " 'link',\n",
       " 'resides',\n",
       " 'outside',\n",
       " 'ibmcom',\n",
       " 'which',\n",
       " 'was',\n",
       " 'published',\n",
       " 'in',\n",
       " 'In',\n",
       " 'this',\n",
       " 'paper',\n",
       " 'Turing',\n",
       " 'often',\n",
       " 'referred',\n",
       " 'to',\n",
       " 'as',\n",
       " 'the',\n",
       " '``',\n",
       " 'father',\n",
       " 'of',\n",
       " 'computer',\n",
       " 'science',\n",
       " \"''\",\n",
       " 'asks',\n",
       " 'the',\n",
       " 'following',\n",
       " 'question',\n",
       " '``',\n",
       " 'Can',\n",
       " 'machines',\n",
       " 'think',\n",
       " \"''\",\n",
       " 'From',\n",
       " 'there',\n",
       " 'he',\n",
       " 'offers',\n",
       " 'a',\n",
       " 'test',\n",
       " 'now',\n",
       " 'famously',\n",
       " 'known',\n",
       " 'as',\n",
       " 'the',\n",
       " '``',\n",
       " 'Turing',\n",
       " 'Test',\n",
       " \"''\",\n",
       " 'where',\n",
       " 'a',\n",
       " 'human',\n",
       " 'interrogator',\n",
       " 'would',\n",
       " 'try',\n",
       " 'to',\n",
       " 'distinguish',\n",
       " 'between',\n",
       " 'a',\n",
       " 'computer',\n",
       " 'and',\n",
       " 'human',\n",
       " 'text',\n",
       " 'response',\n",
       " 'While',\n",
       " 'this',\n",
       " 'test',\n",
       " 'has',\n",
       " 'undergone',\n",
       " 'much',\n",
       " 'scrutiny',\n",
       " 'since',\n",
       " 'its',\n",
       " 'publish',\n",
       " 'it',\n",
       " 'remains',\n",
       " 'an',\n",
       " 'important',\n",
       " 'part',\n",
       " 'of',\n",
       " 'the',\n",
       " 'history',\n",
       " 'of',\n",
       " 'AI',\n",
       " 'as',\n",
       " 'well',\n",
       " 'as',\n",
       " 'an',\n",
       " 'ongoing',\n",
       " 'concept',\n",
       " 'within',\n",
       " 'philosophy',\n",
       " 'as',\n",
       " 'it',\n",
       " 'utilizes',\n",
       " 'ideas',\n",
       " 'around',\n",
       " 'linguistics',\n",
       " 'Stuart',\n",
       " 'Russell',\n",
       " 'and',\n",
       " 'Peter',\n",
       " 'Norvig',\n",
       " 'then',\n",
       " 'proceeded',\n",
       " 'to',\n",
       " 'publish',\n",
       " 'Artificial',\n",
       " 'Intelligence',\n",
       " 'A',\n",
       " 'Modern',\n",
       " 'Approach',\n",
       " 'link',\n",
       " 'resides',\n",
       " 'outside',\n",
       " 'ibmcom',\n",
       " 'becoming',\n",
       " 'one',\n",
       " 'of',\n",
       " 'the',\n",
       " 'leading',\n",
       " 'textbooks',\n",
       " 'in',\n",
       " 'the',\n",
       " 'study',\n",
       " 'of',\n",
       " 'AI',\n",
       " 'In',\n",
       " 'it',\n",
       " 'they',\n",
       " 'delve',\n",
       " 'into',\n",
       " 'four',\n",
       " 'potential',\n",
       " 'goals',\n",
       " 'or',\n",
       " 'definitions',\n",
       " 'of',\n",
       " 'AI',\n",
       " 'which',\n",
       " 'differentiates',\n",
       " 'computer',\n",
       " 'systems',\n",
       " 'on',\n",
       " 'the',\n",
       " 'basis',\n",
       " 'of',\n",
       " 'rationality',\n",
       " 'and',\n",
       " 'thinking',\n",
       " 'vs',\n",
       " 'acting',\n",
       " 'Human',\n",
       " 'approach',\n",
       " 'Systems',\n",
       " 'that',\n",
       " 'think',\n",
       " 'like',\n",
       " 'humans',\n",
       " 'Systems',\n",
       " 'that',\n",
       " 'act',\n",
       " 'like',\n",
       " 'humans',\n",
       " 'Ideal',\n",
       " 'approach',\n",
       " 'Systems',\n",
       " 'that',\n",
       " 'think',\n",
       " 'rationally',\n",
       " 'Systems',\n",
       " 'that',\n",
       " 'act',\n",
       " 'rationally']"
      ]
     },
     "execution_count": 98,
     "metadata": {},
     "output_type": "execute_result"
    }
   ],
   "source": [
    "post_punctuation"
   ]
  },
  {
   "cell_type": "markdown",
   "id": "a3c84e73",
   "metadata": {},
   "source": [
    "## POS (Parts of Speech)"
   ]
  },
  {
   "cell_type": "markdown",
   "id": "8392c92f",
   "metadata": {},
   "source": [
    "Tags and descriptions (Tags: Short forms. Description: POS, e.g noun, full form)"
   ]
  },
  {
   "cell_type": "code",
   "execution_count": 100,
   "id": "5770cb59",
   "metadata": {},
   "outputs": [],
   "source": [
    "sent = \"Timothy is a natural when it comes to drawing\"\n",
    "sent_tokens = word_tokenize(sent)"
   ]
  },
  {
   "cell_type": "code",
   "execution_count": 102,
   "id": "70518a66",
   "metadata": {},
   "outputs": [
    {
     "name": "stdout",
     "output_type": "stream",
     "text": [
      "[('Timothy', 'NN')]\n",
      "[('is', 'VBZ')]\n",
      "[('a', 'DT')]\n",
      "[('natural', 'JJ')]\n",
      "[('when', 'WRB')]\n",
      "[('it', 'PRP')]\n",
      "[('comes', 'VBZ')]\n",
      "[('to', 'TO')]\n",
      "[('drawing', 'VBG')]\n"
     ]
    }
   ],
   "source": [
    "for token in sent_tokens:\n",
    "    print(nltk.pos_tag([token]))"
   ]
  },
  {
   "cell_type": "markdown",
   "id": "22f30f1a",
   "metadata": {},
   "source": [
    "## NER(Name Entity Recognition)"
   ]
  },
  {
   "cell_type": "markdown",
   "id": "99da303f",
   "metadata": {},
   "source": [
    "e.g: Movie, Monetary Value, Organization, Location, Quantities, Person"
   ]
  },
  {
   "cell_type": "code",
   "execution_count": 103,
   "id": "05d8a2ae",
   "metadata": {},
   "outputs": [],
   "source": [
    "from nltk import ne_chunk"
   ]
  },
  {
   "cell_type": "code",
   "execution_count": 104,
   "id": "29ddc120",
   "metadata": {},
   "outputs": [],
   "source": [
    "NE_sent = \"The US president stays in the White House\""
   ]
  },
  {
   "cell_type": "code",
   "execution_count": 108,
   "id": "466a3023",
   "metadata": {},
   "outputs": [],
   "source": [
    "NE_tokens = word_tokenize(NE_sent)\n",
    "NE_tags = nltk.pos_tag(NE_tokens)"
   ]
  },
  {
   "cell_type": "code",
   "execution_count": 109,
   "id": "bea79cc4",
   "metadata": {},
   "outputs": [
    {
     "name": "stdout",
     "output_type": "stream",
     "text": [
      "(S\n",
      "  The/DT\n",
      "  (GSP US/NNP)\n",
      "  president/NN\n",
      "  stays/NNS\n",
      "  in/IN\n",
      "  the/DT\n",
      "  (FACILITY White/NNP House/NNP))\n"
     ]
    }
   ],
   "source": [
    "NE_NER = ne_chunk(NE_tags)\n",
    "print(NE_NER)"
   ]
  },
  {
   "cell_type": "markdown",
   "id": "dbb54920",
   "metadata": {},
   "source": [
    "## NER Entities List"
   ]
  },
  {
   "cell_type": "markdown",
   "id": "e6e81f0d",
   "metadata": {},
   "source": [
    "e.g: Facility, Geo-political Entitiy, Geo-socio political group, Location,Organization, Person"
   ]
  },
  {
   "cell_type": "markdown",
   "id": "3fc818d8",
   "metadata": {},
   "source": [
    "## Syntax"
   ]
  },
  {
   "cell_type": "markdown",
   "id": "ee5d9a73",
   "metadata": {},
   "source": [
    "Rules, Principles, Process"
   ]
  },
  {
   "cell_type": "markdown",
   "id": "0a7e8bf4",
   "metadata": {},
   "source": [
    "## Phase Structurs Rules"
   ]
  },
  {
   "cell_type": "markdown",
   "id": "1c126371",
   "metadata": {},
   "source": [
    "## Syntax tree"
   ]
  },
  {
   "cell_type": "markdown",
   "id": "a0a5a11d",
   "metadata": {},
   "source": [
    "Syntax tree is a tree representation of syntactic structure of sentences of strings"
   ]
  },
  {
   "cell_type": "markdown",
   "id": "c387f551",
   "metadata": {},
   "source": [
    "## Chunking"
   ]
  },
  {
   "cell_type": "markdown",
   "id": "8409ec18",
   "metadata": {},
   "source": [
    "Picking up individual pieces of information and grouping them into bigger pieces."
   ]
  },
  {
   "cell_type": "code",
   "execution_count": 110,
   "id": "abc2dae9",
   "metadata": {},
   "outputs": [
    {
     "data": {
      "text/plain": [
       "[('The', 'DT'),\n",
       " ('big', 'JJ'),\n",
       " ('cat', 'NN'),\n",
       " ('ate', 'NN'),\n",
       " ('little', 'JJ'),\n",
       " ('mouse', 'NN'),\n",
       " ('who', 'WP'),\n",
       " ('was', 'VBD'),\n",
       " ('after', 'IN'),\n",
       " ('fresh', 'JJ'),\n",
       " ('cheese', 'NN')]"
      ]
     },
     "execution_count": 110,
     "metadata": {},
     "output_type": "execute_result"
    }
   ],
   "source": [
    "new = \"The big cat ate little mouse who was after fresh cheese\"\n",
    "#tokenizing including pos tag\n",
    "new_tokens = nltk.pos_tag(word_tokenize(new))\n",
    "new_tokens"
   ]
  },
  {
   "cell_type": "code",
   "execution_count": 115,
   "id": "0c32fe5f",
   "metadata": {},
   "outputs": [],
   "source": [
    "grammar_np = r\"NP: {<DT>?<JJ>*<NN>}\" "
   ]
  },
  {
   "cell_type": "code",
   "execution_count": 116,
   "id": "685e1b10",
   "metadata": {},
   "outputs": [],
   "source": [
    "chunk_parser = nltk.RegexpParser(grammar_np)"
   ]
  },
  {
   "cell_type": "code",
   "execution_count": 1,
   "id": "b2518a14",
   "metadata": {},
   "outputs": [],
   "source": [
    "#chunk_result = chunk_parser.parse(new_tokens)\n",
    "#chunk_result\n",
    "#Though error tree comes into the end"
   ]
  },
  {
   "cell_type": "code",
   "execution_count": null,
   "id": "443cb53f",
   "metadata": {},
   "outputs": [],
   "source": []
  }
 ],
 "metadata": {
  "kernelspec": {
   "display_name": "Python 3 (ipykernel)",
   "language": "python",
   "name": "python3"
  },
  "language_info": {
   "codemirror_mode": {
    "name": "ipython",
    "version": 3
   },
   "file_extension": ".py",
   "mimetype": "text/x-python",
   "name": "python",
   "nbconvert_exporter": "python",
   "pygments_lexer": "ipython3",
   "version": "3.9.12"
  }
 },
 "nbformat": 4,
 "nbformat_minor": 5
}
